{
 "cells": [
  {
   "cell_type": "code",
   "execution_count": 1,
   "metadata": {},
   "outputs": [],
   "source": [
    "import os\n",
    "os.environ['TF_CPP_MIN_LOG_LEVEL']='2'\n",
    "\n",
    "import numpy as np\n",
    "import tensorflow as tf\n",
    "from tensorflow.examples.tutorials.mnist import input_data\n",
    "import time\n",
    "import math\n",
    "import skimage\n",
    "from skimage import transform\n",
    "from skimage import util\n",
    "from skimage import filters"
   ]
  },
  {
   "cell_type": "code",
   "execution_count": 2,
   "metadata": {},
   "outputs": [],
   "source": [
    "gpu_options = tf.GPUOptions(per_process_gpu_memory_fraction=0.8)\n",
    "sessConfig=tf.ConfigProto(gpu_options=gpu_options)"
   ]
  },
  {
   "cell_type": "code",
   "execution_count": 27,
   "metadata": {},
   "outputs": [
    {
     "name": "stdout",
     "output_type": "stream",
     "text": [
      "Extracting /data/mnist\\train-images-idx3-ubyte.gz\n",
      "Extracting /data/mnist\\train-labels-idx1-ubyte.gz\n",
      "Extracting /data/mnist\\t10k-images-idx3-ubyte.gz\n",
      "Extracting /data/mnist\\t10k-labels-idx1-ubyte.gz\n"
     ]
    }
   ],
   "source": [
    "# Define paramaters for the model\n",
    "learning_rate = 0.01\n",
    "batch_size = 128\n",
    "n_epochs = 50\n",
    "batch_augment_proportion = 10 #augmentated data will be 10 times\n",
    "batch_augment_portion = 2 # 100% of data will be augmented.\n",
    "imgSide = 28\n",
    "\n",
    "# Step 1: Read in data\n",
    "# using TF Learn's built in function to load MNIST data to the folder data/mnist\n",
    "mnist = input_data.read_data_sets('/data/mnist', one_hot=True) \n"
   ]
  },
  {
   "cell_type": "code",
   "execution_count": 28,
   "metadata": {},
   "outputs": [
    {
     "data": {
      "text/plain": [
       "55000"
      ]
     },
     "execution_count": 28,
     "metadata": {},
     "output_type": "execute_result"
    }
   ],
   "source": [
    "mnist.train.num_examples\n"
   ]
  },
  {
   "cell_type": "code",
   "execution_count": 29,
   "metadata": {},
   "outputs": [],
   "source": [
    "X = tf.placeholder( name=\"X\", shape=[None, 784], dtype=tf.float32 )\n",
    "Y = tf.placeholder( name=\"Y\", shape=[None, 10], dtype=tf.int32 )"
   ]
  },
  {
   "cell_type": "code",
   "execution_count": 30,
   "metadata": {},
   "outputs": [],
   "source": [
    "w = tf.Variable( tf.random_normal( shape=[784, 10], stddev=0.01 ), name = 'weights' )\n",
    "b = tf.Variable( tf.zeros( shape=[1,10]), name = 'bias' )"
   ]
  },
  {
   "cell_type": "code",
   "execution_count": 31,
   "metadata": {},
   "outputs": [],
   "source": [
    "logits = tf.matmul( X, w ) + b \n",
    "logits = tf.identity( logits, name = \"logits\" )\n",
    "\n",
    "lossFunction = tf.reduce_mean( tf.nn.softmax_cross_entropy_with_logits( logits = logits, labels = Y ) )\n",
    "optimizer = tf.train.AdamOptimizer( learning_rate=learning_rate ).minimize( lossFunction ) "
   ]
  },
  {
   "cell_type": "code",
   "execution_count": 36,
   "metadata": {},
   "outputs": [],
   "source": [
    "#image batch augmentation\n",
    "\n",
    "augmentOperations = {\n",
    "    \n",
    "    'rotate': random_rotation,\n",
    "    'noise': random_noise,\n",
    "    'blur': random_blur,\n",
    "    'otsu': random_otsu\n",
    "}\n",
    "\n",
    "def random_rotation( imgMat ):\n",
    "    deg = np.random.uniform( -20, 20 )\n",
    "    return skimage.transform.rotate( imgMat, deg )\n",
    "\n",
    "def random_noise( imgMat ):\n",
    "    return skimage.util.random_noise( imgMat )\n",
    "\n",
    "def random_blur( imgMat ):\n",
    "    return skimage.filters.gaussian( imgMat, sigma = 2 )\n",
    "\n",
    "def random_otsu( imgMat ):\n",
    "    thres = skimage.filters.threshold_otsu( imgMat )\n",
    "    return (imgMat <= thres).astype( 'float32' )\n",
    "\n",
    "\n",
    "def augmentImage( imgVec ):\n",
    "    imgMat = np.reshape( imgVec, ( imgSide, imgSide ) )\n",
    "    \n",
    "    operationKey = np.random.choice( list( augmentOperations ) )\n",
    "    \n",
    "    return augmentOperations[operationKey]( imgMat ).flatten()\n",
    "    \n",
    "    \n",
    "\n",
    "def augmentOneImageFromBatch( batch ):\n",
    "    index = np.random.randint( 0, batch_size )\n",
    "    return ( augmentImage( batch[0][index] ), batch[1][index] )\n",
    "    \n",
    "\n",
    "def augmentBatch( batch ):\n",
    "    \n",
    "    # augment portions\n",
    "    numImagesToAugment = math.floor( batch_size * batch_augment_portion )\n",
    "    #newImages = [ augmentOneImageFromBatch( batch ) for i in range( numImagesToAugment ) ]\n",
    "    xList = []\n",
    "    yList = []\n",
    "    for i in range( numImagesToAugment ):\n",
    "        newTuple = augmentOneImageFromBatch( batch )\n",
    "        xList.append( newTuple[0] )\n",
    "        yList.append( newTuple[1] )\n",
    "    \n",
    "    xList = np.array( xList )\n",
    "    yList = np.array( yList )\n",
    "    #print( \"x {0}, y {1}\".format( xList.shape, yList.shape ) )\n",
    "    #print( \"batch {0}, batch {1}\".format( len( batch[0] ), len( batch[1] ) ) )\n",
    "    newX = np.append( batch[0], xList, axis = 0 )\n",
    "    newY = np.append( batch[1], yList, axis = 0 ) \n",
    "    #print( \"new x {0}, new y {1}\".format( newX.shape, newY.shape ) )\n",
    "    return ( newX, newY )\n"
   ]
  },
  {
   "cell_type": "code",
   "execution_count": 37,
   "metadata": {},
   "outputs": [
    {
     "name": "stdout",
     "output_type": "stream",
     "text": [
      "(128, 784)\n",
      "(128, 10)\n",
      "(384, 784)\n"
     ]
    }
   ],
   "source": [
    "batch = mnist.train.next_batch( batch_size )\n",
    "print( batch[0].shape )\n",
    "print( batch[1].shape )\n",
    "batch = augmentBatch( batch )\n",
    "print( batch[0].shape )"
   ]
  },
  {
   "cell_type": "code",
   "execution_count": null,
   "metadata": {},
   "outputs": [
    {
     "name": "stdout",
     "output_type": "stream",
     "text": [
      "430\n",
      "#Starting Epoch 1\n",
      "----Starting batch 1\n",
      "----Starting batch 44\n",
      "----Starting batch 87\n",
      "----Starting batch 130\n",
      "----Starting batch 173\n",
      "----Starting batch 216\n",
      "----Starting batch 259\n",
      "----Starting batch 302\n",
      "----Starting batch 345\n",
      "----Starting batch 388\n",
      "#Starting Epoch 2\n",
      "----Starting batch 1\n",
      "----Starting batch 44\n",
      "----Starting batch 87\n",
      "----Starting batch 130\n",
      "----Starting batch 173\n",
      "----Starting batch 216\n",
      "----Starting batch 259\n"
     ]
    }
   ],
   "source": [
    "batches_per_epoch = math.ceil( mnist.train.num_examples / batch_size )\n",
    "print( batches_per_epoch )\n",
    "\n",
    "n_epochs = 10\n",
    "with tf.Session( config=sessConfig ) as sess:\n",
    "    start_time = time.time()\n",
    "    writer = tf.summary.FileWriter( \"./graphs/logistic\", sess.graph )\n",
    "    sess.run( tf.global_variables_initializer() )\n",
    "    \n",
    "    for epoch in range( n_epochs ):\n",
    "        print( \"#Starting Epoch {0}\".format( epoch + 1 ) )\n",
    "        try:\n",
    "            total_loss = 0.0\n",
    "            i = 0\n",
    "            for i in range( batches_per_epoch ) :\n",
    "                if ( i %  math.ceil( ( batches_per_epoch / 10 ) ) == 0 ):\n",
    "                    print( \"----Starting batch {0}\".format( i + 1 ) )\n",
    "                #get batch\n",
    "                batch = mnist.train.next_batch( batch_size )\n",
    "                batch = augmentBatch( batch )\n",
    "                #run batch\n",
    "                _,batchLoss = sess.run( [optimizer, lossFunction], feed_dict = { X: batch[0], Y: batch[1] } )\n",
    "                total_loss += batchLoss\n",
    "        except tf.errors.OutOfRangeError:\n",
    "            print( \"Epoch {0}: {1}\".format( epoch, math.sqrt( total_loss / mnist.train.num_examples ) ) )\n",
    "            pass\n",
    "    \n",
    "    writer.flush()\n",
    "    writer.close()\n",
    "    print('Total time: {0} seconds'.format(time.time() - start_time))   \n",
    "    \n",
    "    w_out, b_out = sess.run( [w,b] )\n",
    "    \n",
    "    print('Optimization Finished!') # should be around 0.35 after 25 epochs\n",
    "   \n",
    "    "
   ]
  },
  {
   "cell_type": "code",
   "execution_count": null,
   "metadata": {},
   "outputs": [],
   "source": []
  },
  {
   "cell_type": "code",
   "execution_count": null,
   "metadata": {},
   "outputs": [],
   "source": [
    "mnist.test.epochs_completed"
   ]
  },
  {
   "cell_type": "code",
   "execution_count": null,
   "metadata": {},
   "outputs": [],
   "source": [
    "# test the model\n",
    "preds = tf.nn.softmax(logits)\n",
    "correct_preds = tf.equal(tf.argmax(preds, 1), tf.argmax(Y, 1))\n",
    "accuracy = tf.reduce_sum(tf.cast(correct_preds, tf.float32)) # need numpy.count_nonzero(boolarr) :(\n",
    "\n",
    "n_batches = int(mnist.test.num_examples/batch_size)\n",
    "total_correct_preds = 0.\n",
    "\n",
    "with tf.Session( config=sessConfig ) as sess:\n",
    "    sess.run( tf.global_variables_initializer() )\n",
    "    sess.run( [w.assign( w_out ), b.assign( b_out ) ] )\n",
    "\n",
    "    for i in range(n_batches):\n",
    "        X_batch, Y_batch = mnist.test.next_batch(batch_size)\n",
    "        accuracy_batch = sess.run( accuracy, feed_dict={X: X_batch, Y:Y_batch}) \n",
    "        #print( accuracy_batch )\n",
    "        total_correct_preds += accuracy_batch\n",
    "\n",
    "    print('Accuracy {0}'.format(total_correct_preds/mnist.test.num_examples))"
   ]
  },
  {
   "cell_type": "code",
   "execution_count": null,
   "metadata": {},
   "outputs": [],
   "source": []
  },
  {
   "cell_type": "code",
   "execution_count": 13,
   "metadata": {},
   "outputs": [],
   "source": [
    "?skimage.transform.rotate"
   ]
  },
  {
   "cell_type": "code",
   "execution_count": null,
   "metadata": {},
   "outputs": [],
   "source": []
  }
 ],
 "metadata": {
  "kernelspec": {
   "display_name": "Python 3",
   "language": "python",
   "name": "python3"
  },
  "language_info": {
   "codemirror_mode": {
    "name": "ipython",
    "version": 3
   },
   "file_extension": ".py",
   "mimetype": "text/x-python",
   "name": "python",
   "nbconvert_exporter": "python",
   "pygments_lexer": "ipython3",
   "version": "3.6.6"
  }
 },
 "nbformat": 4,
 "nbformat_minor": 2
}
