{
 "cells": [
  {
   "cell_type": "code",
   "execution_count": 1,
   "metadata": {},
   "outputs": [],
   "source": [
    "\"\"\"\n",
    "Simple exercises to get used to TensorFlow API\n",
    "You should thoroughly test your code.\n",
    "TensorFlow's official documentation should be your best friend here\n",
    "CS20: \"TensorFlow for Deep Learning Research\"\n",
    "cs20.stanford.edu\n",
    "Created by Chip Huyen (chiphuyen@cs.stanford.edu)\n",
    "\"\"\"\n",
    "import os\n",
    "os.environ['TF_CPP_MIN_LOG_LEVEL']='2'\n",
    "\n",
    "import tensorflow as tf"
   ]
  },
  {
   "cell_type": "code",
   "execution_count": 2,
   "metadata": {},
   "outputs": [],
   "source": [
    "gpu_options = tf.GPUOptions(per_process_gpu_memory_fraction=0.8)\n",
    "sessConfig=tf.ConfigProto(gpu_options=gpu_options)"
   ]
  },
  {
   "cell_type": "code",
   "execution_count": 3,
   "metadata": {},
   "outputs": [],
   "source": [
    "sess = tf.InteractiveSession( config = sessConfig )"
   ]
  },
  {
   "cell_type": "code",
   "execution_count": 13,
   "metadata": {},
   "outputs": [],
   "source": [
    "tf.set_random_seed( 39 )\n",
    "tfBoard = tf.summary.FileWriter( \"./graphs/q1\", sess.graph )"
   ]
  },
  {
   "cell_type": "code",
   "execution_count": 4,
   "metadata": {},
   "outputs": [
    {
     "name": "stdout",
     "output_type": "stream",
     "text": [
      "0.53118443\n"
     ]
    }
   ],
   "source": [
    "###############################################################################\n",
    "# 1a: Create two random 0-d tensors x and y of any distribution.\n",
    "# Create a TensorFlow object that returns x + y if x > y, and x - y otherwise.\n",
    "# Hint: look up tf.cond()\n",
    "# I do the first problem for you\n",
    "###############################################################################\n",
    "\n",
    "x = tf.random_uniform([])  # Empty array as shape creates a scalar.\n",
    "y = tf.random_uniform([])\n",
    "out = tf.cond(tf.greater(x, y), lambda: x + y, lambda: x - y)\n",
    "print(sess.run(out))"
   ]
  },
  {
   "cell_type": "code",
   "execution_count": 23,
   "metadata": {},
   "outputs": [
    {
     "name": "stdout",
     "output_type": "stream",
     "text": [
      "[0.720206]\n"
     ]
    }
   ],
   "source": [
    "###############################################################################\n",
    "# 1b: Create two 0-d tensors x and y randomly selected from the range [-1, 1).\n",
    "# Return x + y if x < y, x - y if x > y, 0 otherwise.\n",
    "# Hint: Look up tf.case().\n",
    "###############################################################################\n",
    "x = tf.random_uniform( [], minval = -1, maxval = 1 )\n",
    "y = tf.random_uniform( [], minval = -1, maxval = 1 )\n",
    "\n",
    "out = tf.cond( \n",
    "    tf.less( x, y ), \n",
    "    lambda: x + y, \n",
    "    lambda: tf.cond( tf.greater( x, y ), \n",
    "                    lambda: x - y, \n",
    "                    lambda: 0. \n",
    "                   ) \n",
    ")\n",
    "print( sess.run( [out] ) )\n"
   ]
  },
  {
   "cell_type": "code",
   "execution_count": 28,
   "metadata": {},
   "outputs": [
    {
     "name": "stdout",
     "output_type": "stream",
     "text": [
      "[[ True False False]\n",
      " [ True False False]]\n"
     ]
    }
   ],
   "source": [
    "###############################################################################\n",
    "# 1c: Create the tensor x of the value [[0, -2, -1], [0, 1, 2]] \n",
    "# and y as a tensor of zeros with the same shape as x.\n",
    "# Return a boolean tensor that yields Trues if x equals y element-wise.\n",
    "# Hint: Look up tf.equal().\n",
    "###############################################################################\n",
    "\n",
    "x = tf.constant( [[0, -2, -1], [0, 1, 2]]  )\n",
    "y = tf.zeros_like( x )\n",
    "out = tf.equal( x, y )\n",
    "\n",
    "print( sess.run( out ) )"
   ]
  },
  {
   "cell_type": "code",
   "execution_count": 46,
   "metadata": {},
   "outputs": [
    {
     "name": "stdout",
     "output_type": "stream",
     "text": [
      "[ 2  4  6  8  9 11 14 16 18]\n",
      "[31.190735 30.97266  38.084503 34.944454 34.45999  36.01657  30.20379\n",
      " 33.711494 36.055565]\n"
     ]
    }
   ],
   "source": [
    "###############################################################################\n",
    "# 1d: Create the tensor x of value \n",
    "# [29.05088806,  27.61298943,  31.19073486,  29.35532951,\n",
    "#  30.97266006,  26.67541885,  38.08450317,  20.74983215,\n",
    "#  34.94445419,  34.45999146,  29.06485367,  36.01657104,\n",
    "#  27.88236427,  20.56035233,  30.20379066,  29.51215172,\n",
    "#  33.71149445,  28.59134293,  36.05556488,  28.66994858].\n",
    "# Get the indices of elements in x whose values are greater than 30.\n",
    "# Hint: Use tf.where().\n",
    "# Then extract elements whose values are greater than 30.\n",
    "# Hint: Use tf.gather().\n",
    "###############################################################################\n",
    "\n",
    "x = tf.constant( [29.05088806,  27.61298943,  31.19073486,  29.35532951,\n",
    "                  30.97266006,  26.67541885,  38.08450317,  20.74983215,\n",
    "                  34.94445419,  34.45999146,  29.06485367,  36.01657104,\n",
    "                  27.88236427,  20.56035233,  30.20379066,  29.51215172,\n",
    "                  33.71149445,  28.59134293,  36.05556488,  28.66994858]\n",
    "               )\n",
    "\n",
    "mask = tf.fill( tf.shape(x), True )\n",
    "trueIndicesWhere = tf.reshape( tf.where( tf.greater( x, 30 ) ), [-1] )\n",
    "\n",
    "trueIndices = sess.run( trueIndicesWhere )\n",
    "print( trueIndices )\n",
    "\n",
    "filteredVals = tf.gather( x, trueIndices )\n",
    "print( sess.run( filteredVals ) )"
   ]
  },
  {
   "cell_type": "code",
   "execution_count": 49,
   "metadata": {},
   "outputs": [
    {
     "name": "stdout",
     "output_type": "stream",
     "text": [
      "[[1 0 0 0 0 0]\n",
      " [0 2 0 0 0 0]\n",
      " [0 0 3 0 0 0]\n",
      " [0 0 0 4 0 0]\n",
      " [0 0 0 0 5 0]\n",
      " [0 0 0 0 0 6]]\n"
     ]
    }
   ],
   "source": [
    "###############################################################################\n",
    "# 1e: Create a diagnoal 2-d tensor of size 6 x 6 with the diagonal values of 1,\n",
    "# 2, ..., 6\n",
    "# Hint: Use tf.range() and tf.diag().\n",
    "###############################################################################\n",
    "seq = tf.range(1,7)\n",
    "diag = tf.diag( seq )\n",
    "print( sess.run( diag ) )"
   ]
  },
  {
   "cell_type": "code",
   "execution_count": 52,
   "metadata": {},
   "outputs": [
    {
     "name": "stdout",
     "output_type": "stream",
     "text": [
      "-316.61505\n",
      "[[-0.08584421  1.2286414  -2.3233972  -1.2203773  -0.43624303  0.7975135\n",
      "   0.29657778  1.2836806   0.9893475  -1.4594897 ]\n",
      " [ 1.7537892  -0.98934394  1.213877    0.07860077  1.2145444  -0.04078407\n",
      "  -1.1706752  -0.45150048  1.0927207   0.01912704]\n",
      " [ 0.5455254  -0.9176182   1.6131482  -0.07915685 -0.32051048  0.5278167\n",
      "  -0.02602592  0.48626202  0.7072311   1.8109593 ]\n",
      " [-0.76975125  0.87817425  0.37341434  1.1017609  -0.19898602  0.3335209\n",
      "   0.55055314  0.10963187 -1.2421621   2.2010536 ]\n",
      " [-0.68277234 -0.6221651  -0.9112568  -0.08237689 -0.04760491  0.37429696\n",
      "   0.30789924  0.71601343  0.16277264  0.71686053]\n",
      " [-0.06605926  0.6080401  -0.94159746 -0.8275424   0.72466177  1.6645539\n",
      "  -0.04569227  1.1780572   0.20640792 -1.5270218 ]\n",
      " [ 1.2304268   1.0017675   0.9833425  -0.31209537  2.0907457   1.3893663\n",
      "   0.9535505   0.73348373  1.5933542  -1.1357813 ]\n",
      " [ 0.23827754 -0.40438646 -0.14850315 -1.3621339  -0.8101369   0.92316544\n",
      "   1.198467    0.07190312 -0.43746406 -0.52612585]\n",
      " [ 0.25753105  1.6572338  -1.0148277  -0.23778006 -1.0620617   0.87007606\n",
      "  -0.95160025  0.44242322  0.49085984  1.279729  ]\n",
      " [ 0.02998903 -0.65355265  0.12135205  0.59935325  0.59363806 -0.26220953\n",
      "  -0.11768916  0.9309853   2.597805    0.7069642 ]]\n"
     ]
    }
   ],
   "source": [
    "###############################################################################\n",
    "# 1f: Create a random 2-d tensor of size 10 x 10 from any distribution.\n",
    "# Calculate its determinant.\n",
    "# Hint: Look at tf.matrix_determinant().\n",
    "###############################################################################\n",
    "\n",
    "tensor = tf.random.normal( [10, 10], seed = 39 )\n",
    "det = tf.matrix_determinant( tensor )\n",
    "print( sess.run( det ) )\n",
    "print( sess.run( tensor ) )"
   ]
  },
  {
   "cell_type": "code",
   "execution_count": 54,
   "metadata": {},
   "outputs": [
    {
     "name": "stdout",
     "output_type": "stream",
     "text": [
      "[ 5  2  3 10  6  4  1  0  9]\n"
     ]
    }
   ],
   "source": [
    "###############################################################################\n",
    "# 1g: Create tensor x with value [5, 2, 3, 5, 10, 6, 2, 3, 4, 2, 1, 1, 0, 9].\n",
    "# Return the unique elements in x\n",
    "# Hint: use tf.unique(). Keep in mind that tf.unique() returns a tuple.\n",
    "###############################################################################\n",
    "\n",
    "x = tf.constant( [5, 2, 3, 5, 10, 6, 2, 3, 4, 2, 1, 1, 0, 9] )\n",
    "uniqTuples = tf.unique( x )\n",
    "uniq = uniqTuples.y\n",
    "print( sess.run( uniq ) )"
   ]
  },
  {
   "cell_type": "code",
   "execution_count": null,
   "metadata": {},
   "outputs": [],
   "source": [
    "\n",
    "###############################################################################\n",
    "# 1h: Create two tensors x and y of shape 300 from any normal distribution,\n",
    "# as long as they are from the same distribution.\n",
    "# Use tf.cond() to return:\n",
    "# - The mean squared error of (x - y) if the average of all elements in (x - y)\n",
    "#   is negative, or\n",
    "# - The sum of absolute value of all elements in the tensor (x - y) otherwise.\n",
    "# Hint: see the Huber loss function in the lecture slides 3.\n",
    "###############################################################################\n",
    "\n",
    "x = tf.random.uniform( minval= -100, maxval= 100, seed=39 )\n",
    "y = tf.random.uniform( minval= -100, maxval= 100, seed=40 )\n",
    "\n",
    "true_fn = lambda avg: \n"
   ]
  },
  {
   "cell_type": "code",
   "execution_count": null,
   "metadata": {},
   "outputs": [],
   "source": []
  }
 ],
 "metadata": {
  "kernelspec": {
   "display_name": "Python 3",
   "language": "python",
   "name": "python3"
  },
  "language_info": {
   "codemirror_mode": {
    "name": "ipython",
    "version": 3
   },
   "file_extension": ".py",
   "mimetype": "text/x-python",
   "name": "python",
   "nbconvert_exporter": "python",
   "pygments_lexer": "ipython3",
   "version": "3.6.6"
  }
 },
 "nbformat": 4,
 "nbformat_minor": 2
}
