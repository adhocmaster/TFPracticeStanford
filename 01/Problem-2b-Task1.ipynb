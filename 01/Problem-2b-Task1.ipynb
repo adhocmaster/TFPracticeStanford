{
 "cells": [
  {
   "cell_type": "code",
   "execution_count": 1,
   "metadata": {},
   "outputs": [],
   "source": [
    "import os\n",
    "os.environ['TF_CPP_MIN_LOG_LEVEL']='2'\n",
    "\n",
    "import numpy as np\n",
    "import tensorflow as tf\n",
    "from tensorflow.examples.tutorials.mnist import input_data\n",
    "import time\n",
    "import math\n",
    "\n",
    "gpu_options = tf.GPUOptions(per_process_gpu_memory_fraction=0.8)\n",
    "sessConfig=tf.ConfigProto(gpu_options=gpu_options)\n"
   ]
  },
  {
   "cell_type": "code",
   "execution_count": 19,
   "metadata": {},
   "outputs": [
    {
     "name": "stdout",
     "output_type": "stream",
     "text": [
      "Extracting /data/mnist\\train-images-idx3-ubyte.gz\n",
      "Extracting /data/mnist\\train-labels-idx1-ubyte.gz\n",
      "Extracting /data/mnist\\t10k-images-idx3-ubyte.gz\n",
      "Extracting /data/mnist\\t10k-labels-idx1-ubyte.gz\n"
     ]
    }
   ],
   "source": [
    "# Define paramaters for the model\n",
    "learning_rate = 0.01\n",
    "batch_size = 128\n",
    "n_epochs = 5\n",
    "\n",
    "# Step 1: Read in data\n",
    "# using TF Learn's built in function to load MNIST data to the folder data/mnist\n",
    "mnist = input_data.read_data_sets('/data/mnist', one_hot=True) \n"
   ]
  },
  {
   "cell_type": "code",
   "execution_count": 3,
   "metadata": {},
   "outputs": [],
   "source": [
    "batch = mnist.train.next_batch( batch_size )"
   ]
  },
  {
   "cell_type": "code",
   "execution_count": 13,
   "metadata": {},
   "outputs": [
    {
     "data": {
      "text/plain": [
       "1.0"
      ]
     },
     "execution_count": 13,
     "metadata": {},
     "output_type": "execute_result"
    }
   ],
   "source": [
    "max( batch[1][1] )"
   ]
  },
  {
   "cell_type": "code",
   "execution_count": 8,
   "metadata": {},
   "outputs": [
    {
     "data": {
      "text/plain": [
       "array([[0., 0., 0., ..., 0., 0., 0.],\n",
       "       [0., 0., 0., ..., 0., 0., 0.],\n",
       "       [0., 0., 0., ..., 0., 0., 0.],\n",
       "       ...,\n",
       "       [0., 0., 0., ..., 0., 0., 0.],\n",
       "       [0., 0., 0., ..., 0., 0., 0.],\n",
       "       [0., 0., 0., ..., 0., 0., 0.]], dtype=float32)"
      ]
     },
     "execution_count": 8,
     "metadata": {},
     "output_type": "execute_result"
    }
   ],
   "source": [
    "batch[0]"
   ]
  },
  {
   "cell_type": "code",
   "execution_count": 17,
   "metadata": {},
   "outputs": [],
   "source": [
    "X = tf.placeholder( name=\"X\", shape=[batch_size, 784], dtype=tf.float32 )\n",
    "Y = tf.placeholder( name=\"Y\", shape=[batch_size, 10], dtype=tf.float32 )"
   ]
  },
  {
   "cell_type": "code",
   "execution_count": 15,
   "metadata": {},
   "outputs": [],
   "source": [
    "w = tf.Variable( tf.random_normal( shape=[784, 10], stddev=0.01 ), name = 'weights' )\n",
    "b = tf.Variable( tf.zeros( shape=[1,10]), name = 'bias' )"
   ]
  },
  {
   "cell_type": "code",
   "execution_count": 18,
   "metadata": {},
   "outputs": [],
   "source": [
    "logits = tf.matmul( X, w ) + b \n",
    "logits = tf.identity( logits, name = \"logits\" )\n",
    "\n",
    "lossFunction = tf.reduce_mean( tf.nn.sigmoid_cross_entropy_with_logits( logits = logits, labels = Y ) )\n",
    "optimizer = tf.train.AdamOptimizer( learning_rate=learning_rate ).minimize( lossFunction ) "
   ]
  },
  {
   "cell_type": "code",
   "execution_count": null,
   "metadata": {},
   "outputs": [
    {
     "name": "stdout",
     "output_type": "stream",
     "text": [
      "430\n"
     ]
    }
   ],
   "source": [
    "batches_per_epoch = math.ceil( mnist.train.num_examples / batch_size )\n",
    "print( batches_per_epoch )\n",
    "\n",
    "with tf.Session( config=sessConfig ) as sess:\n",
    "    start_time = time.time()\n",
    "    writer = tf.summary.FileWriter( \"./graphs/logistic\", sess.graph )\n",
    "    sess.run( tf.global_variables_initializer() )\n",
    "    \n",
    "    for epoch in range( n_epochs ):\n",
    "        print( \"#Starting Epoch {0}\".format( epoch + 1 ) )\n",
    "        try:\n",
    "            total_loss = 0.0\n",
    "            i = 0\n",
    "            for i in range( batches_per_epoch ) :\n",
    "                if ( i %  math.ceil( ( batches_per_epoch / 10 ) ) == 0 ):\n",
    "                    print( \"----Starting batch {0}\".format( i + 1 ) )\n",
    "                #get batch\n",
    "                batch = mnist.train.next_batch( batch_size )\n",
    "                #run batch\n",
    "                _,batchLoss = sess.run( [optimizer, lossFunction], feed_dict = { X: batch[0], Y: batch[1] } )\n",
    "                total_loss += batchLoss\n",
    "        except tf.errors.OutOfRangeError:\n",
    "            print( \"Epoch {0}: {1}\".format( epoch, math.sqrt( total_loss / mnist.train.num_examples ) ) )\n",
    "            pass\n",
    "    \n",
    "    writer.flush()\n",
    "    writer.close()\n",
    "    print('Total time: {0} seconds'.format(time.time() - start_time))   \n",
    "    \n",
    "    w_out, b_out = sess.run( [w,b] )\n",
    "    \n",
    "    print('Optimization Finished!') # should be around 0.35 after 25 epochs"
   ]
  },
  {
   "cell_type": "code",
   "execution_count": null,
   "metadata": {},
   "outputs": [],
   "source": []
  }
 ],
 "metadata": {
  "kernelspec": {
   "display_name": "Python 3",
   "language": "python",
   "name": "python3"
  },
  "language_info": {
   "codemirror_mode": {
    "name": "ipython",
    "version": 3
   },
   "file_extension": ".py",
   "mimetype": "text/x-python",
   "name": "python",
   "nbconvert_exporter": "python",
   "pygments_lexer": "ipython3",
   "version": "3.6.6"
  }
 },
 "nbformat": 4,
 "nbformat_minor": 2
}
