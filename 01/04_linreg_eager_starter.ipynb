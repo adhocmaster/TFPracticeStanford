{
 "cells": [
  {
   "cell_type": "code",
   "execution_count": 1,
   "metadata": {},
   "outputs": [],
   "source": [
    "\"\"\" Starter code for a simple regression example using eager execution.\n",
    "Created by Akshay Agrawal (akshayka@cs.stanford.edu)\n",
    "CS20: \"TensorFlow for Deep Learning Research\"\n",
    "cs20.stanford.edu\n",
    "Lecture 04\n",
    "\"\"\"\n",
    "import time\n",
    "\n",
    "import tensorflow as tf\n",
    "import tensorflow.contrib.eager as tfe\n",
    "tfe.enable_eager_execution()\n",
    "import matplotlib.pyplot as plt\n",
    "\n",
    "\n",
    "import utils"
   ]
  },
  {
   "cell_type": "code",
   "execution_count": 157,
   "metadata": {},
   "outputs": [],
   "source": [
    "DATA_FILE = 'data/birth_life_2010.txt'\n",
    "data, n_samples = utils.read_birth_life_data(DATA_FILE)\n",
    "dataset = tf.data.Dataset.from_tensor_slices((data[:,0], data[:,1]))"
   ]
  },
  {
   "cell_type": "code",
   "execution_count": 158,
   "metadata": {},
   "outputs": [],
   "source": [
    "writer = tf.contrib.summary.create_file_writer( './data/graphs', flush_millis=10000 )\n"
   ]
  },
  {
   "cell_type": "code",
   "execution_count": 159,
   "metadata": {},
   "outputs": [
    {
     "data": {
      "text/plain": [
       "True"
      ]
     },
     "execution_count": 159,
     "metadata": {},
     "output_type": "execute_result"
    }
   ],
   "source": [
    "tf.executing_eagerly()"
   ]
  },
  {
   "cell_type": "code",
   "execution_count": 172,
   "metadata": {},
   "outputs": [],
   "source": [
    "w = tfe.Variable(name='w', initial_value=0.)\n",
    "b = tfe.Variable(name='b', initial_value=0.)\n",
    "# Define the linear predictor.\n",
    "def prediction(x):\n",
    "    return w*x + b\n",
    "\n",
    "# Define loss functions of the form: L(y, y_predicted)\n",
    "def squared_loss(y, y_predicted):\n",
    "    return y * y_predicted\n",
    "\n",
    "def huber_loss(y, y_predicted):\n",
    "    '''Huber loss with `m` set to `1.0`.'''\n",
    "    residual = tf.abs( y - y_predicted )\n",
    "    m=10\n",
    "    if residual > m:\n",
    "        return m* residual - m*m\n",
    "    return 0.5 * squared_loss( y, y_predicted )\n",
    "    \n",
    "def train(loss_fn):\n",
    "    '''Train a regression model evaluated using `loss_fn`.'''\n",
    "    print('Training; loss function: ' + loss_fn.__name__)\n",
    "    optimizer = tf.train.GradientDescentOptimizer( learning_rate=0.01 )\n",
    "\n",
    "    ## Retrieve all trainable variables you defined in your graph\n",
    "    tvs = [w,b]\n",
    "    # initialized with 0s\n",
    "    accum_vars = [tf.Variable(tf.zeros_like(tv.initialized_value()), trainable=False) for tv in tvs]\n",
    "    \n",
    "    print( accum_vars )\n",
    "    \n",
    "    \n",
    "    # Define the function through which to differentiate.\n",
    "    #############################\n",
    "    ########## TO DO ############\n",
    "    #############################\n",
    "    def loss_for_example(x, y):\n",
    "        return huber_loss( y, prediction(x) )\n",
    "    \n",
    "\n",
    "    # Obtain a gradients function using `tfe.implicit_value_and_gradients`.\n",
    "    #############################\n",
    "    ########## TO DO ############\n",
    "    #############################\n",
    "    grad_fn = tfe.implicit_value_and_gradients( loss_for_example )\n",
    "\n",
    "    def loss_gradient_for_batch( batch ):\n",
    "        \n",
    "        for tv in accum_vars:\n",
    "            tv = tf.zeros_like(tv)\n",
    "            \n",
    "        total_loss = 0.\n",
    "        count = 0\n",
    "        for x, y in zip( batch[0], batch[1] ):\n",
    "            count += 1\n",
    "            #print( \"x {0} y {1}\".format( x, y ) )\n",
    "            loss, gradients = grad_fn( x, y )\n",
    "            #print( type( gradients )  )\n",
    "            total_loss += loss\n",
    "            for i, gv in enumerate(gradients):\n",
    "                accum_vars[i] = accum_vars[i] + gv[0]\n",
    "        return total_loss / count\n",
    "    \n",
    "    start = time.time()\n",
    "    batches = dataset.batch( batch_size= 10 )\n",
    "    for epoch in range(100):\n",
    "        \n",
    "        total_loss = 0.0  \n",
    "        '''\n",
    "        for  batch in tfe.Iterator( batches ):\n",
    "            # Compute the loss and gradient, and take an optimization step.\n",
    "            #############################\n",
    "            ########## TO DO ############\n",
    "            #############################\n",
    "            #print( type(batch) )\n",
    "            avg_loss = loss_gradient_for_batch( batch )\n",
    "            #optimizer.apply_gradients([(accum_vars[i], gv[1]) for i, gv in enumerate(gvs)])\n",
    "            optimizer.apply_gradients([(accum_vars[i], gv) for i, gv in enumerate(tvs)])\n",
    "            total_loss += avg_loss\n",
    "        '''\n",
    "        for  x,y in tfe.Iterator( dataset ):\n",
    "            # Compute the loss and gradient, and take an optimization step.\n",
    "            #############################\n",
    "            ########## TO DO ############\n",
    "            #############################\n",
    "            #print( type(batch) )\n",
    "            loss, gradients = grad_fn( x, y )\n",
    "            optimizer.apply_gradients( gradients )\n",
    "            total_loss += loss\n",
    "\n",
    "        if epoch % 10 == 0:\n",
    "            print('Epoch {0}: {1}'.format(epoch, total_loss / n_samples))\n",
    "    print('Took: %f seconds' % (time.time() - start))"
   ]
  },
  {
   "cell_type": "code",
   "execution_count": null,
   "metadata": {},
   "outputs": [
    {
     "name": "stdout",
     "output_type": "stream",
     "text": [
      "Training; loss function: huber_loss\n",
      "[<tf.Variable 'Variable:0' shape=() dtype=float32, numpy=0.0>, <tf.Variable 'Variable:0' shape=() dtype=float32, numpy=0.0>]\n",
      "Epoch 0: 462.0115051269531\n",
      "Epoch 10: 413.5570983886719\n"
     ]
    }
   ],
   "source": [
    "train(huber_loss)\n",
    "plt.plot(data[:,0], data[:,1], 'bo')\n",
    "# The `.numpy()` method of a tensor retrieves the NumPy array backing it.\n",
    "# In future versions of eager, you won't need to call `.numpy()` and will\n",
    "# instead be able to, in most cases, pass Tensors wherever NumPy arrays are\n",
    "# expected.\n",
    "plt.plot(data[:,0], data[:,0] * w.numpy() + b.numpy(), 'r',\n",
    "         label=\"huber regression\")\n",
    "plt.legend()\n",
    "plt.show()"
   ]
  },
  {
   "cell_type": "code",
   "execution_count": null,
   "metadata": {},
   "outputs": [],
   "source": []
  }
 ],
 "metadata": {
  "kernelspec": {
   "display_name": "Python 3",
   "language": "python",
   "name": "python3"
  },
  "language_info": {
   "codemirror_mode": {
    "name": "ipython",
    "version": 3
   },
   "file_extension": ".py",
   "mimetype": "text/x-python",
   "name": "python",
   "nbconvert_exporter": "python",
   "pygments_lexer": "ipython3",
   "version": "3.6.6"
  }
 },
 "nbformat": 4,
 "nbformat_minor": 2
}
